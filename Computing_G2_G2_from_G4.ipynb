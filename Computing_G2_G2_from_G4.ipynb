{
 "cells": [
  {
   "cell_type": "code",
   "execution_count": 1,
   "metadata": {},
   "outputs": [
    {
     "name": "stdout",
     "output_type": "stream",
     "text": [
      "importing Jupyter notebook from aomoto_lib.ipynb\n"
     ]
    }
   ],
   "source": [
    "import import_ipynb\n",
    "import numpy as np\n",
    "import copy\n",
    "import math\n",
    "import itertools\n",
    "import functools\n",
    "from aomoto_lib import *"
   ]
  },
  {
   "cell_type": "code",
   "execution_count": 2,
   "metadata": {},
   "outputs": [],
   "source": [
    "# Taking 4-dim Aomoto simplex;\n",
    "# Computing the images in G_2 x G_2 through G_4 \n",
    "# Checking the A_4      ->      A_2 x A_2 \n",
    "#               |                   |\n",
    "#          G_4 (+ H_4)  ->      G_2 x G_2"
   ]
  },
  {
   "cell_type": "code",
   "execution_count": 3,
   "metadata": {
    "scrolled": true
   },
   "outputs": [
    {
     "name": "stdout",
     "output_type": "stream",
     "text": [
      "([\\{l_0|l_1, l_2, l_3, l_4, m_0, m_1, m_2, m_3\\}_{G_4}], 1)\n",
      "([\\{l_0|l_1, l_2, l_3, l_4, m_0, m_1, m_2, m_4\\}_{G_4}], -1)\n",
      "([\\{l_0|l_1, l_2, l_3, l_4, m_0, m_1, m_3, m_4\\}_{G_4}], 1)\n",
      "([\\{l_0|l_1, l_2, l_3, l_4, m_0, m_2, m_3, m_4\\}_{G_4}], -1)\n",
      "([\\{l_0|l_1, l_2, l_3, l_4, m_1, m_2, m_3, m_4\\}_{G_4}], 1)\n",
      "([\\{l_1|l_0, l_2, l_3, l_4, m_0, m_1, m_2, m_3\\}_{G_4}], -1)\n",
      "([\\{l_1|l_0, l_2, l_3, l_4, m_0, m_1, m_2, m_4\\}_{G_4}], 1)\n",
      "([\\{l_1|l_0, l_2, l_3, l_4, m_0, m_1, m_3, m_4\\}_{G_4}], -1)\n",
      "([\\{l_1|l_0, l_2, l_3, l_4, m_0, m_2, m_3, m_4\\}_{G_4}], 1)\n",
      "([\\{l_1|l_0, l_2, l_3, l_4, m_1, m_2, m_3, m_4\\}_{G_4}], -1)\n",
      "([\\{l_2|l_0, l_1, l_3, l_4, m_0, m_1, m_2, m_3\\}_{G_4}], 1)\n",
      "([\\{l_2|l_0, l_1, l_3, l_4, m_0, m_1, m_2, m_4\\}_{G_4}], -1)\n",
      "([\\{l_2|l_0, l_1, l_3, l_4, m_0, m_1, m_3, m_4\\}_{G_4}], 1)\n",
      "([\\{l_2|l_0, l_1, l_3, l_4, m_0, m_2, m_3, m_4\\}_{G_4}], -1)\n",
      "([\\{l_2|l_0, l_1, l_3, l_4, m_1, m_2, m_3, m_4\\}_{G_4}], 1)\n",
      "([\\{l_3|l_0, l_1, l_2, l_4, m_0, m_1, m_2, m_3\\}_{G_4}], -1)\n",
      "([\\{l_3|l_0, l_1, l_2, l_4, m_0, m_1, m_2, m_4\\}_{G_4}], 1)\n",
      "([\\{l_3|l_0, l_1, l_2, l_4, m_0, m_1, m_3, m_4\\}_{G_4}], -1)\n",
      "([\\{l_3|l_0, l_1, l_2, l_4, m_0, m_2, m_3, m_4\\}_{G_4}], 1)\n",
      "([\\{l_3|l_0, l_1, l_2, l_4, m_1, m_2, m_3, m_4\\}_{G_4}], -1)\n",
      "([\\{l_4|l_0, l_1, l_2, l_3, m_0, m_1, m_2, m_3\\}_{G_4}], 1)\n",
      "([\\{l_4|l_0, l_1, l_2, l_3, m_0, m_1, m_2, m_4\\}_{G_4}], -1)\n",
      "([\\{l_4|l_0, l_1, l_2, l_3, m_0, m_1, m_3, m_4\\}_{G_4}], 1)\n",
      "([\\{l_4|l_0, l_1, l_2, l_3, m_0, m_2, m_3, m_4\\}_{G_4}], -1)\n",
      "([\\{l_4|l_0, l_1, l_2, l_3, m_1, m_2, m_3, m_4\\}_{G_4}], 1)\n",
      "-------------------------------------------------------------\n"
     ]
    }
   ],
   "source": [
    "A_4 =[([AGroup([], [['l_0','l_1','l_2','l_3','l_4'],['m_0','m_1','m_2','m_3','m_4']])], 1)]\n",
    "G_H_4 = take_phi(A_4)\n",
    "G_4 = G_H_4[25:]\n",
    "print(*G_4, sep='\\n')\n",
    "print('-------------------------------------------------------------')"
   ]
  },
  {
   "cell_type": "code",
   "execution_count": 4,
   "metadata": {},
   "outputs": [],
   "source": [
    "G_2_2_from_G = take_coprod(G_4, 2)\n",
    "l_0_m_0_part = []\n",
    "for (elem,k) in G_2_2_from_G:\n",
    "    if 'l_0' in elem[0].pre and 'm_0' in elem[0].pre and 'l_0' in elem[1].pre and 'm_0' in elem[1].pre:\n",
    "        l_0_m_0_part.append((elem, k,))"
   ]
  },
  {
   "cell_type": "code",
   "execution_count": 9,
   "metadata": {},
   "outputs": [],
   "source": [
    "#print(*l_0_m_0_part, sep = '\\n')"
   ]
  },
  {
   "cell_type": "code",
   "execution_count": 6,
   "metadata": {},
   "outputs": [],
   "source": [
    "l_0_m_0_proj = take_coprod(l_0_m_0_part)"
   ]
  },
  {
   "cell_type": "code",
   "execution_count": 7,
   "metadata": {},
   "outputs": [],
   "source": [
    "#print(*l_0_m_0_proj, sep = '\\n')"
   ]
  }
 ],
 "metadata": {
  "kernelspec": {
   "display_name": "Python 3",
   "language": "python",
   "name": "python3"
  },
  "language_info": {
   "codemirror_mode": {
    "name": "ipython",
    "version": 3
   },
   "file_extension": ".py",
   "mimetype": "text/x-python",
   "name": "python",
   "nbconvert_exporter": "python",
   "pygments_lexer": "ipython3",
   "version": "3.8.1"
  }
 },
 "nbformat": 4,
 "nbformat_minor": 2
}
