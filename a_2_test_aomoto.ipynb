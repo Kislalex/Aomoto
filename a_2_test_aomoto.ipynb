{
 "cells": [
  {
   "cell_type": "code",
   "execution_count": 2,
   "metadata": {},
   "outputs": [
    {
     "name": "stdout",
     "output_type": "stream",
     "text": [
      "importing Jupyter notebook from aomoto_lib.ipynb\n"
     ]
    }
   ],
   "source": [
    "import import_ipynb\n",
    "import numpy as np\n",
    "import copy\n",
    "import math\n",
    "import itertools\n",
    "import functools\n",
    "from aomoto_lib import *"
   ]
  },
  {
   "cell_type": "code",
   "execution_count": 3,
   "metadata": {},
   "outputs": [
    {
     "name": "stdout",
     "output_type": "stream",
     "text": [
      "Starting from the element {} [([<|l_1, l_2, l_3 ; m_1, m_2, m_3>_{A_2}], 1)]\n",
      "-------------------------------------------------------------\n",
      "([\\Delta(l_1, l_2, m_1), <m_1|m_2, m_3 ; l_1, l_2>_{A_1}], -1)\n",
      "([\\Delta(l_1, l_2, m_2), <m_2|m_1, m_3 ; l_1, l_2>_{A_1}], 1)\n",
      "([\\Delta(l_1, l_2, m_3), <m_3|m_1, m_2 ; l_1, l_2>_{A_1}], -1)\n",
      "([\\Delta(l_1, l_3, m_1), <m_1|m_2, m_3 ; l_1, l_3>_{A_1}], 1)\n",
      "([\\Delta(l_1, l_3, m_2), <m_2|m_1, m_3 ; l_1, l_3>_{A_1}], -1)\n",
      "([\\Delta(l_1, l_3, m_3), <m_3|m_1, m_2 ; l_1, l_3>_{A_1}], 1)\n",
      "([\\Delta(l_1, m_1, m_2), <l_1|l_2, l_3 ; m_1, m_2>_{A_1}], 1)\n",
      "([\\Delta(l_1, m_1, m_3), <l_1|l_2, l_3 ; m_1, m_3>_{A_1}], -1)\n",
      "([\\Delta(l_1, m_2, m_3), <l_1|l_2, l_3 ; m_2, m_3>_{A_1}], 1)\n",
      "([\\Delta(l_2, l_3, m_1), <m_1|m_2, m_3 ; l_2, l_3>_{A_1}], -1)\n",
      "([\\Delta(l_2, l_3, m_2), <m_2|m_1, m_3 ; l_2, l_3>_{A_1}], 1)\n",
      "([\\Delta(l_2, l_3, m_3), <m_3|m_1, m_2 ; l_2, l_3>_{A_1}], -1)\n",
      "([\\Delta(l_2, m_1, m_2), <l_2|l_1, l_3 ; m_1, m_2>_{A_1}], -1)\n",
      "([\\Delta(l_2, m_1, m_3), <l_2|l_1, l_3 ; m_1, m_3>_{A_1}], 1)\n",
      "([\\Delta(l_2, m_2, m_3), <l_2|l_1, l_3 ; m_2, m_3>_{A_1}], -1)\n",
      "([\\Delta(l_3, m_1, m_2), <l_3|l_1, l_2 ; m_1, m_2>_{A_1}], 1)\n",
      "([\\Delta(l_3, m_1, m_3), <l_3|l_1, l_2 ; m_1, m_3>_{A_1}], -1)\n",
      "([\\Delta(l_3, m_2, m_3), <l_3|l_1, l_2 ; m_2, m_3>_{A_1}], 1)\n",
      "-------------------------------------------------------------\n",
      "([\\{l_1|l_2, l_3, m_1, m_2\\}_{G_2}], 1)\n",
      "([\\{l_1|l_2, l_3, m_1, m_3\\}_{G_2}], -1)\n",
      "([\\{l_1|l_2, l_3, m_2, m_3\\}_{G_2}], 1)\n",
      "([\\{l_2|l_1, l_3, m_1, m_2\\}_{G_2}], -1)\n",
      "([\\{l_2|l_1, l_3, m_1, m_3\\}_{G_2}], 1)\n",
      "([\\{l_2|l_1, l_3, m_2, m_3\\}_{G_2}], -1)\n",
      "([\\{l_3|l_1, l_2, m_1, m_2\\}_{G_2}], 1)\n",
      "([\\{l_3|l_1, l_2, m_1, m_3\\}_{G_2}], -1)\n",
      "([\\{l_3|l_1, l_2, m_2, m_3\\}_{G_2}], 1)\n",
      "-------------------------------------------------------------\n",
      "([\\Delta(l_2, l_3, m_3), \\Delta(l_3, m_2, m_3)], 0)\n",
      "-------------------------------------------------------------\n"
     ]
    }
   ],
   "source": [
    "# Checking the A_2 -> A_1 x A_1\n",
    "#               |         |  \n",
    "#              B_2 ->  F* x F* \n",
    "# Diagram commuting:\n",
    "A_2 = [([AGroup([], [['l_1','l_2','l_3'],['m_1','m_2','m_3']])], 1)]\n",
    "print('Starting from the element {}',A_2)\n",
    "print('-------------------------------------------------------------')\n",
    "#A_2_ = [([A_2], 1)]\n",
    "A_1_1 = take_coprod(A_2)\n",
    "G_2 = take_phi(A_2)\n",
    "print(*A_1_1, sep = '\\n')\n",
    "print('-------------------------------------------------------------')\n",
    "print(*G_2, sep = '\\n')\n",
    "print('-------------------------------------------------------------')\n",
    "right_part = take_phi(A_1_1)\n",
    "left_part = take_coprod(G_2)\n",
    "difference = myMult(right_part, -1) + myMult(left_part,1)\n",
    "reduction(difference)\n",
    "print(*difference, sep = '\\n')\n",
    "print('-------------------------------------------------------------')"
   ]
  },
  {
   "cell_type": "code",
   "execution_count": null,
   "metadata": {},
   "outputs": [],
   "source": []
  },
  {
   "cell_type": "code",
   "execution_count": null,
   "metadata": {},
   "outputs": [],
   "source": []
  }
 ],
 "metadata": {
  "kernelspec": {
   "display_name": "Python 3",
   "language": "python",
   "name": "python3"
  },
  "language_info": {
   "codemirror_mode": {
    "name": "ipython",
    "version": 3
   },
   "file_extension": ".py",
   "mimetype": "text/x-python",
   "name": "python",
   "nbconvert_exporter": "python",
   "pygments_lexer": "ipython3",
   "version": "3.7.4"
  }
 },
 "nbformat": 4,
 "nbformat_minor": 2
}
